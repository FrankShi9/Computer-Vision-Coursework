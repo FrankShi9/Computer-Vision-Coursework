{
  "nbformat": 4,
  "nbformat_minor": 0,
  "metadata": {
    "colab": {
      "provenance": []
    },
    "kernelspec": {
      "name": "python3",
      "display_name": "Python 3"
    },
    "language_info": {
      "name": "python"
    },
    "gpuClass": "standard"
  },
  "cells": [
    {
      "cell_type": "code",
      "execution_count": null,
      "metadata": {
        "id": "BCsNy8cVPF8N"
      },
      "outputs": [],
      "source": [
        "# list data structures\n",
        "# A\n",
        "a = [0, 0, 1, 1, 0, 0,\n",
        "     0, 1, 0, 0, 1, 0,\n",
        "     1, 1, 1, 1, 1, 1,\n",
        "     1, 0, 0, 0, 0, 1,\n",
        "     1, 0, 0, 0, 0, 1]\n",
        "\n",
        "# B\n",
        "b =[0, 1, 1, 1, 1, 0,\n",
        "   0, 1, 0, 0, 1, 0,\n",
        "   0, 1, 1, 1, 1, 0,\n",
        "   0, 1, 0, 0, 1, 0,\n",
        "   0, 1, 1, 1, 1, 0]\n",
        "# C\n",
        "c =[0, 1, 1, 1, 1, 0,\n",
        "   0, 1, 0, 0, 0, 0,\n",
        "   0, 1, 0, 0, 0, 0,\n",
        "   0, 1, 0, 0, 0, 0,\n",
        "   0, 1, 1, 1, 1, 0]\n",
        "\n",
        "y = [[1,0,0],\n",
        "     [0,1,0],\n",
        "     [0,0,1]]"
      ]
    },
    {
      "cell_type": "code",
      "source": [
        "import numpy as np\n",
        "import matplotlib.pyplot as plt\n",
        "\n",
        "plt.imshow(np.array(a).reshape(5,6))\n",
        "plt.show"
      ],
      "metadata": {
        "colab": {
          "base_uri": "https://localhost:8080/",
          "height": 282
        },
        "id": "2Br6kD8qPxG-",
        "outputId": "bddaa3b4-be19-4768-f0be-495941c8088e"
      },
      "execution_count": null,
      "outputs": [
        {
          "output_type": "execute_result",
          "data": {
            "text/plain": [
              "<function matplotlib.pyplot.show(*args, **kw)>"
            ]
          },
          "metadata": {},
          "execution_count": 2
        },
        {
          "output_type": "display_data",
          "data": {
            "text/plain": [
              "<Figure size 432x288 with 1 Axes>"
            ],
            "image/png": "[encoded data removed]"
          },
          "metadata": {
            "needs_background": "light"
          }
        }
      ]
    },
    {
      "cell_type": "code",
      "source": [
        "x = [np.array(a).reshape(1,30), np.array(b).reshape(1,30), np.array(c).reshape(1,30)]\n",
        "\n",
        "y = np.array(y)\n",
        "\n",
        "print(x, \"\\n\\n\", y)"
      ],
      "metadata": {
        "colab": {
          "base_uri": "https://localhost:8080/"
        },
        "id": "nrySr6KAQL0q",
        "outputId": "6f311fa1-e611-4fb9-fddc-49ab85e509cc"
      },
      "execution_count": null,
      "outputs": [
        {
          "output_type": "stream",
          "name": "stdout",
          "text": [
            "[array([[0, 0, 1, 1, 0, 0, 0, 1, 0, 0, 1, 0, 1, 1, 1, 1, 1, 1, 1, 0, 0, 0,\n",
            "        0, 1, 1, 0, 0, 0, 0, 1]]), array([[0, 1, 1, 1, 1, 0, 0, 1, 0, 0, 1, 0, 0, 1, 1, 1, 1, 0, 0, 1, 0, 0,\n",
            "        1, 0, 0, 1, 1, 1, 1, 0]]), array([[0, 1, 1, 1, 1, 0, 0, 1, 0, 0, 0, 0, 0, 1, 0, 0, 0, 0, 0, 1, 0, 0,\n",
            "        0, 0, 0, 1, 1, 1, 1, 0]])] \n",
            "\n",
            " [[1 0 0]\n",
            " [0 1 0]\n",
            " [0 0 1]]\n"
          ]
        }
      ]
    },
    {
      "cell_type": "code",
      "source": [
        "def sigmoid(x):\n",
        "  return (1/(1+np.exp(-x)))"
      ],
      "metadata": {
        "id": "fQwkJVd9SGtg"
      },
      "execution_count": null,
      "outputs": []
    },
    {
      "cell_type": "code",
      "source": [
        "def forward(x, w1, w2):\n",
        "  # layer 1\n",
        "  z1 = x.dot(w1)\n",
        "  a1 = sigmoid(z1)\n",
        "\n",
        "  # layer 2\n",
        "  z2 = a1.dot(w2)\n",
        "  a2 = sigmoid(z2)\n",
        "\n",
        "  return a2"
      ],
      "metadata": {
        "id": "vr4Vo1CHSM9G"
      },
      "execution_count": null,
      "outputs": []
    },
    {
      "cell_type": "code",
      "source": [
        "def init(x, y):\n",
        "  l = []\n",
        "  for i in range(x*y):\n",
        "    l.append(np.random.randn())\n",
        "  return np.array(l).reshape(x,y)"
      ],
      "metadata": {
        "id": "4Pn6rfQDShdn"
      },
      "execution_count": null,
      "outputs": []
    },
    {
      "cell_type": "code",
      "source": [
        "def loss(yh, y):\n",
        "  s = (np.square(yh - y))\n",
        "  s = np.sum(s) / len(y)\n",
        "  return (s)"
      ],
      "metadata": {
        "id": "HfTxCUItSpo-"
      },
      "execution_count": null,
      "outputs": []
    },
    {
      "cell_type": "code",
      "source": [
        "def backward(x, y, w1, w2, lr):\n",
        "  yh = forward(x, w1, w2)\n",
        "  \n",
        "  # layer 1\n",
        "  z1 = x.dot(w1)\n",
        "  a1 = sigmoid(z1)\n",
        "\n",
        "  # layer 2\n",
        "  z2 = a1.dot(w2)\n",
        "  a2 = sigmoid(z2)\n",
        "\n",
        "  d2 = a2-y\n",
        "  d_sig = np.multiply(a1, 1-a1)\n",
        "  d1 = np.multiply((w2.dot(d2.transpose())).transpose(), d_sig)\n",
        "\n",
        "  w1_grad = x.transpose().dot(d1)\n",
        "  w2_grad = a1.transpose().dot(d2)\n",
        "\n",
        "  w1 -= lr*w1_grad\n",
        "  w2 -= lr*w2_grad\n",
        "\n",
        "  return (w1, w2)"
      ],
      "metadata": {
        "id": "FmICeLP2TMAB"
      },
      "execution_count": null,
      "outputs": []
    },
    {
      "cell_type": "code",
      "source": [
        "def train(x, y, w1, w2, lr=1e-2, epoch=10):\n",
        "  acc = []\n",
        "  loss = []\n",
        "  \n",
        "  for e in range(epoch):\n",
        "      l = []\n",
        "      for i in range(len(x)):\n",
        "        yh = forward(x[i], w1, w2)\n",
        "        l.append((loss(yh, y[i])))\n",
        "        w1, w2 = backward(x[i], y[i], w1, w2, lr)\n",
        "      ls = (sum(l))/(len(x))\n",
        "      ac = (1-(sum(l))/(len(x)))*100\n",
        "      print(\"epoch: \", e+1, \"     acc: \", ac)\n",
        "      acc.append(ac)\n",
        "      loss.append(ls)\n",
        "      return (acc, loss, w1, w2)"
      ],
      "metadata": {
        "id": "U92XjasaXCcO"
      },
      "execution_count": null,
      "outputs": []
    },
    {
      "cell_type": "code",
      "source": [
        "def train(x, Y, w1, w2, alpha = 0.01, epoch = 10):\n",
        "    acc =[]\n",
        "    losss =[]\n",
        "    for j in range(epoch):\n",
        "        l =[]\n",
        "        for i in range(len(x)):\n",
        "            out = forward(x[i], w1, w2)\n",
        "            l.append((loss(out, Y[i])))\n",
        "            w1, w2 = backward(x[i], y[i], w1, w2, alpha)\n",
        "        print(\"epochs:\", j + 1, \"======== acc:\", (1-(sum(l)/len(x)))*100)  \n",
        "        acc.append((1-(sum(l)/len(x)))*100)\n",
        "        losss.append(sum(l)/len(x))\n",
        "    return(acc, losss, w1, w2)"
      ],
      "metadata": {
        "id": "dK7W0CXqd2qN"
      },
      "execution_count": null,
      "outputs": []
    },
    {
      "cell_type": "code",
      "source": [
        "def predict(x, w1, w2):\n",
        "  yh = forward(x, w1, w2)\n",
        "  max = 0\n",
        "  k= 0\n",
        "  for i in range(len(yh[0])):\n",
        "    if (max<yh[0][i]):\n",
        "      max = yh[0][i]\n",
        "      k = i\n",
        "    \n",
        "  if(k == 0):\n",
        "      print(\"Image is of letter A.\")\n",
        "  elif(k == 1):\n",
        "      print(\"Image is of letter B.\")\n",
        "  else:\n",
        "      print(\"Image is of letter C.\")\n",
        "\n",
        "  plt.imshow(x.reshape(5,6))\n",
        "  plt.show()"
      ],
      "metadata": {
        "id": "odk8nb3fa1to"
      },
      "execution_count": null,
      "outputs": []
    },
    {
      "cell_type": "code",
      "source": [
        "w1 = init(30, 5) # 5x6 flat input\n",
        "w2 = init(5, 3) # 5 connect and 3 out classes\n",
        "print(w1, \"\\n\\n\", w2)"
      ],
      "metadata": {
        "colab": {
          "base_uri": "https://localhost:8080/"
        },
        "id": "1ZvD27RAbDxf",
        "outputId": "fde10539-7711-4259-d4c2-e31bc1a2f620"
      },
      "execution_count": null,
      "outputs": [
        {
          "output_type": "stream",
          "name": "stdout",
          "text": [
            "[[ 2.29750581e+00 -5.28408982e-01  4.32512392e-01 -2.60161353e+00\n",
            "   5.92680212e-01]\n",
            " [-3.75353678e-01  9.80655782e-02  1.29421592e+00 -5.95486818e-01\n",
            "   2.11218052e-01]\n",
            " [ 7.50879906e-01 -8.80261410e-01  1.81033081e-01  8.69988500e-01\n",
            "   1.07793416e+00]\n",
            " [ 6.51864820e-01  1.96298907e+00 -1.43960541e-01  1.87148683e-01\n",
            "   8.80430925e-01]\n",
            " [-5.42727379e-01  2.13613098e+00 -7.28076016e-01  6.51828825e-01\n",
            "  -3.05518533e+00]\n",
            " [ 2.45417365e-03  1.50129377e+00 -5.25493816e-01 -7.71849156e-01\n",
            "   6.76106300e-01]\n",
            " [ 2.08705586e+00 -1.63059106e+00 -3.51061521e-01  1.36106827e-03\n",
            "   2.90671376e-01]\n",
            " [ 6.31550584e-01  1.72662759e+00 -6.87228128e-01 -6.31303069e-01\n",
            "  -5.00629921e-02]\n",
            " [ 8.75420808e-02 -1.34031278e+00 -5.70043434e-01 -1.06699183e+00\n",
            "   2.29321289e+00]\n",
            " [-1.14039076e+00  1.38001879e-01 -8.87998340e-01 -1.62052968e+00\n",
            "   1.49980131e+00]\n",
            " [-1.57908029e+00 -2.29715438e-01  7.54287331e-01 -7.28476918e-02\n",
            "  -7.51605096e-01]\n",
            " [ 6.84929535e-01  1.39460718e+00 -9.05456697e-01  9.92759054e-01\n",
            "   5.59582125e-01]\n",
            " [ 1.17329962e+00 -4.18565662e-01 -8.04980042e-02  2.70430249e-02\n",
            "   1.17243890e+00]\n",
            " [-5.23628280e-01  4.69914920e-01 -4.96068731e-01 -3.14947440e-01\n",
            "   1.24233244e+00]\n",
            " [-2.95711944e-01  7.76109465e-01 -1.06921319e+00 -6.65353839e-01\n",
            "  -1.12454822e+00]\n",
            " [-4.82102646e-01 -4.36048848e-01 -6.39171696e-01  3.49328738e-01\n",
            "   5.81375908e-01]\n",
            " [ 2.44796724e-01  5.47003929e-01  2.79806701e-01  2.64150746e-01\n",
            "   6.94506801e-01]\n",
            " [ 4.25457856e-01 -1.70959374e-01  5.38355604e-02  1.40728983e+00\n",
            "  -9.62118733e-01]\n",
            " [ 6.96390781e-01 -1.60159686e-01  6.21877405e-01 -7.27378298e-01\n",
            "   1.43067218e-01]\n",
            " [-4.51785003e-01  2.38445413e+00 -3.07320649e+00  2.92576458e+00\n",
            "   1.27462403e+00]\n",
            " [ 4.34520494e-02 -1.17718608e-01  1.50307582e+00 -1.33313265e+00\n",
            "   1.16810758e+00]\n",
            " [-1.52232275e+00 -8.86890019e-01  4.00130967e-01 -2.78374091e-01\n",
            "   7.18663327e-01]\n",
            " [-1.04346612e+00 -9.29880492e-01 -1.10172841e+00  1.22046408e+00\n",
            "  -4.17795316e-01]\n",
            " [ 5.28741361e-01 -9.67585130e-02 -1.28293524e+00  1.17261779e+00\n",
            "  -7.78493639e-01]\n",
            " [-6.20014845e-01  2.13435640e-01 -9.71782062e-01 -3.24963998e-01\n",
            "   9.61873927e-01]\n",
            " [ 3.35271659e-01 -8.42851172e-01  1.04402647e+00  3.17043408e-01\n",
            "  -1.33855408e+00]\n",
            " [-6.75553856e-01 -5.32518446e-01 -6.03860413e-02  3.77183275e-01\n",
            "   3.82292956e-01]\n",
            " [ 5.81495494e-01  3.48207507e-02  2.67739301e-01  4.86391341e-01\n",
            "   1.65925124e+00]\n",
            " [ 8.93341034e-01 -2.01730463e+00  2.57396278e-01 -6.27900863e-01\n",
            "  -9.79133086e-01]\n",
            " [ 1.18834583e+00 -1.00371485e+00  9.81709375e-02 -1.26132859e+00\n",
            "  -2.23104444e-01]] \n",
            "\n",
            " [[ 1.07564283 -1.17662986  0.90997456]\n",
            " [ 1.26859997  0.56473498 -0.46525784]\n",
            " [ 1.36569084  0.37730215 -0.6334043 ]\n",
            " [ 0.23911538 -0.96073954  0.29736616]\n",
            " [-0.86018802  0.06631937 -2.01122747]]\n"
          ]
        }
      ]
    },
    {
      "cell_type": "code",
      "source": [
        "acc, loss, w1, w2 = train(x, y, w1, w2, 1e-1, 100)"
      ],
      "metadata": {
        "colab": {
          "base_uri": "https://localhost:8080/"
        },
        "id": "TaxOIMZBbuFP",
        "outputId": "134e0e35-d987-4cec-f547-5c511de71873"
      },
      "execution_count": null,
      "outputs": [
        {
          "output_type": "stream",
          "name": "stdout",
          "text": [
            "epochs: 1 ======== acc: 71.43780459027329\n",
            "epochs: 2 ======== acc: 74.22037777821515\n",
            "epochs: 3 ======== acc: 76.52139231810791\n",
            "epochs: 4 ======== acc: 78.24598307781982\n",
            "epochs: 5 ======== acc: 79.47124512342508\n",
            "epochs: 6 ======== acc: 80.33841023946856\n",
            "epochs: 7 ======== acc: 80.97380452756371\n",
            "epochs: 8 ======== acc: 81.46770511755037\n",
            "epochs: 9 ======== acc: 81.87917595550927\n",
            "epochs: 10 ======== acc: 82.24570036849215\n",
            "epochs: 11 ======== acc: 82.59086733409899\n",
            "epochs: 12 ======== acc: 82.92933760727657\n",
            "epochs: 13 ======== acc: 83.26979241306893\n",
            "epochs: 14 ======== acc: 83.61665003549881\n",
            "epochs: 15 ======== acc: 83.97114766362036\n",
            "epochs: 16 ======== acc: 84.33218583501049\n",
            "epochs: 17 ======== acc: 84.69713810147238\n",
            "epochs: 18 ======== acc: 85.06264921546578\n",
            "epochs: 19 ======== acc: 85.42533020956836\n",
            "epochs: 20 ======== acc: 85.78224622444183\n",
            "epochs: 21 ======== acc: 86.13115885346869\n",
            "epochs: 22 ======== acc: 86.47056230786266\n",
            "epochs: 23 ======== acc: 86.79959221190512\n",
            "epochs: 24 ======== acc: 87.11788243256491\n",
            "epochs: 25 ======== acc: 87.4254204064201\n",
            "epochs: 26 ======== acc: 87.72242550519776\n",
            "epochs: 27 ======== acc: 88.00925722427931\n",
            "epochs: 28 ======== acc: 88.28635084225408\n",
            "epochs: 29 ======== acc: 88.55417489937669\n",
            "epochs: 30 ======== acc: 88.81320458527144\n",
            "epochs: 31 ======== acc: 89.06390608306813\n",
            "epochs: 32 ======== acc: 89.30672814116953\n",
            "epochs: 33 ======== acc: 89.54209823946866\n",
            "epochs: 34 ======== acc: 89.77042156994852\n",
            "epochs: 35 ======== acc: 89.99208166828174\n",
            "epochs: 36 ======== acc: 90.20744195876095\n",
            "epochs: 37 ======== acc: 90.416847759571\n",
            "epochs: 38 ======== acc: 90.62062848118777\n",
            "epochs: 39 ======== acc: 90.81909986935976\n",
            "epochs: 40 ======== acc: 91.01256621830714\n",
            "epochs: 41 ======== acc: 91.20132252491243\n",
            "epochs: 42 ======== acc: 91.38565658102652\n",
            "epochs: 43 ======== acc: 91.56585101514587\n",
            "epochs: 44 ======== acc: 91.74218530062915\n",
            "epochs: 45 ======== acc: 91.91493774747784\n",
            "epochs: 46 ======== acc: 92.08438748925917\n",
            "epochs: 47 ======== acc: 92.25081646559144\n",
            "epochs: 48 ======== acc: 92.41451138218079\n",
            "epochs: 49 ======== acc: 92.5757656019196\n",
            "epochs: 50 ======== acc: 92.73488087784952\n",
            "epochs: 51 ======== acc: 92.89216877613772\n",
            "epochs: 52 ======== acc: 93.04795154740621\n",
            "epochs: 53 ======== acc: 93.20256207981274\n",
            "epochs: 54 ======== acc: 93.35634240051961\n",
            "epochs: 55 ======== acc: 93.50963998295695\n",
            "epochs: 56 ======== acc: 93.66280088024861\n",
            "epochs: 57 ======== acc: 93.81615848622243\n",
            "epochs: 58 ======== acc: 93.97001662500114\n",
            "epochs: 59 ======== acc: 94.12462586908647\n",
            "epochs: 60 ======== acc: 94.28015275540507\n",
            "epochs: 61 ======== acc: 94.43664322359417\n",
            "epochs: 62 ======== acc: 94.59398433039459\n",
            "epochs: 63 ======== acc: 94.75187182715912\n",
            "epochs: 64 ======== acc: 94.90979437551849\n",
            "epochs: 65 ======== acc: 95.06704586503484\n",
            "epochs: 66 ======== acc: 95.22277309854891\n",
            "epochs: 67 ======== acc: 95.37605633507407\n",
            "epochs: 68 ======== acc: 95.52600783043808\n",
            "epochs: 69 ======== acc: 95.67186493415223\n",
            "epochs: 70 ======== acc: 95.8130551811348\n",
            "epochs: 71 ======== acc: 95.9492213526749\n",
            "epochs: 72 ======== acc: 96.08020868263237\n",
            "epochs: 73 ======== acc: 96.20602675873874\n",
            "epochs: 74 ======== acc: 96.3268015688746\n",
            "epochs: 75 ======== acc: 96.44272995411255\n",
            "epochs: 76 ======== acc: 96.55404317847525\n",
            "epochs: 77 ======== acc: 96.66098144920629\n",
            "epochs: 78 ======== acc: 96.76377824650187\n",
            "epochs: 79 ======== acc: 96.86265211437029\n",
            "epochs: 80 ======== acc: 96.95780347975055\n",
            "epochs: 81 ======== acc: 97.04941449922548\n",
            "epochs: 82 ======== acc: 97.137650495087\n",
            "epochs: 83 ======== acc: 97.22266204792683\n",
            "epochs: 84 ======== acc: 97.30458719868666\n",
            "epochs: 85 ======== acc: 97.3835534779892\n",
            "epochs: 86 ======== acc: 97.45967964679825\n",
            "epochs: 87 ======== acc: 97.53307712698582\n",
            "epochs: 88 ======== acc: 97.60385114724248\n",
            "epochs: 89 ======== acc: 97.6721016476408\n",
            "epochs: 90 ======== acc: 97.73792398827325\n",
            "epochs: 91 ======== acc: 97.80140950230448\n",
            "epochs: 92 ======== acc: 97.86264592649336\n",
            "epochs: 93 ======== acc: 97.92171773526698\n",
            "epochs: 94 ======== acc: 97.97870639873457\n",
            "epochs: 95 ======== acc: 98.0336905807353\n",
            "epochs: 96 ======== acc: 98.086746289877\n",
            "epochs: 97 ======== acc: 98.13794699420525\n",
            "epochs: 98 ======== acc: 98.18736370835003\n",
            "epochs: 99 ======== acc: 98.23506506052124\n",
            "epochs: 100 ======== acc: 98.28111734544564\n"
          ]
        }
      ]
    },
    {
      "cell_type": "code",
      "source": [
        "plt.plot(acc)\n",
        "plt.ylabel(\"acc\")\n",
        "plt.xlabel(\"epoch\")\n",
        "plt.show\n",
        "\n",
        "plt.plot(loss)\n",
        "plt.ylabel(\"acc\")\n",
        "plt.xlabel(\"epoch\")\n",
        "plt.show"
      ],
      "metadata": {
        "colab": {
          "base_uri": "https://localhost:8080/",
          "height": 296
        },
        "id": "WQNVRyDef2Di",
        "outputId": "997ac2f5-06a9-4e3e-8fc2-a9c6b18dacc0"
      },
      "execution_count": null,
      "outputs": [
        {
          "output_type": "execute_result",
          "data": {
            "text/plain": [
              "<function matplotlib.pyplot.show(*args, **kw)>"
            ]
          },
          "metadata": {},
          "execution_count": 15
        },
        {
          "output_type": "display_data",
          "data": {
            "text/plain": [
              "<Figure size 432x288 with 1 Axes>"
            ],
            "image/png": "[encoded data removed]"
          },
          "metadata": {
            "needs_background": "light"
          }
        }
      ]
    },
    {
      "cell_type": "code",
      "source": [
        "print(w1, \"\\n\", w2)"
      ],
      "metadata": {
        "colab": {
          "base_uri": "https://localhost:8080/"
        },
        "id": "6t8TAMBvgQRk",
        "outputId": "7fb5f428-9879-4969-ecaa-799982bb6c58"
      },
      "execution_count": null,
      "outputs": [
        {
          "output_type": "stream",
          "name": "stdout",
          "text": [
            "[[ 2.29750581e+00 -5.28408982e-01  4.32512392e-01 -2.60161353e+00\n",
            "   5.92680212e-01]\n",
            " [-3.34884361e-01  7.90527068e-02  1.03488676e+00 -4.31080983e-01\n",
            "   6.34407544e-02]\n",
            " [ 1.01645321e+00 -8.35122171e-01  3.88918771e-01  6.75757677e-01\n",
            "   9.39286577e-01]\n",
            " [ 9.17438123e-01  2.00812831e+00  6.39251489e-02 -7.08213983e-03\n",
            "   7.41783337e-01]\n",
            " [-5.02258062e-01  2.11711811e+00 -9.87405168e-01  8.16234660e-01\n",
            "  -3.20296263e+00]\n",
            " [ 2.45417365e-03  1.50129377e+00 -5.25493816e-01 -7.71849156e-01\n",
            "   6.76106300e-01]\n",
            " [ 2.08705586e+00 -1.63059106e+00 -3.51061521e-01  1.36106827e-03\n",
            "   2.90671376e-01]\n",
            " [ 8.97123886e-01  1.77176683e+00 -4.79342438e-01 -8.25533892e-01\n",
            "  -1.88710580e-01]\n",
            " [ 8.75420808e-02 -1.34031278e+00 -5.70043434e-01 -1.06699183e+00\n",
            "   2.29321289e+00]\n",
            " [-1.14039076e+00  1.38001879e-01 -8.87998340e-01 -1.62052968e+00\n",
            "   1.49980131e+00]\n",
            " [-2.10878484e+00 -1.35920896e-01  1.24265273e+00 -4.95704280e-01\n",
            "  -1.08588778e-01]\n",
            " [ 6.84929535e-01  1.39460718e+00 -9.05456697e-01  9.92759054e-01\n",
            "   5.59582125e-01]\n",
            " [ 1.39840360e+00 -3.54413552e-01  3.86716839e-01 -3.31593633e-01\n",
            "   1.18156861e+00]\n",
            " [-2.58054977e-01  5.15054158e-01 -2.88183041e-01 -5.09178263e-01\n",
            "   1.10368485e+00]\n",
            " [-8.25416496e-01  8.69904006e-01 -5.80847788e-01 -1.08821043e+00\n",
            "  -4.81531897e-01]\n",
            " [-1.01180720e+00 -3.42254306e-01 -1.50806294e-01 -7.35278501e-02\n",
            "   1.22439223e+00]\n",
            " [-2.84907829e-01  6.40798471e-01  7.68172104e-01 -1.58705843e-01\n",
            "   1.33752312e+00]\n",
            " [ 6.50561842e-01 -1.06807264e-01  5.21050403e-01  1.04865318e+00\n",
            "  -9.52989023e-01]\n",
            " [ 9.21494767e-01 -9.60075762e-02  1.08909225e+00 -1.08601496e+00\n",
            "   1.52196927e-01]\n",
            " [-4.11315686e-01  2.36544126e+00 -3.33253564e+00  3.09017042e+00\n",
            "   1.12684673e+00]\n",
            " [ 4.34520494e-02 -1.17718608e-01  1.50307582e+00 -1.33313265e+00\n",
            "   1.16810758e+00]\n",
            " [-1.52232275e+00 -8.86890019e-01  4.00130967e-01 -2.78374091e-01\n",
            "   7.18663327e-01]\n",
            " [-1.79827466e+00 -9.00238060e-01 -1.08057785e+00  1.15624415e+00\n",
            "   2.16091293e-01]\n",
            " [ 7.53845347e-01 -3.26064030e-02 -8.15720400e-01  8.13981133e-01\n",
            "  -7.69363930e-01]\n",
            " [-3.94910859e-01  2.77587750e-01 -5.04567219e-01 -6.83600656e-01\n",
            "   9.71003636e-01]\n",
            " [ 3.75740976e-01 -8.61864044e-01  7.84697318e-01  4.81449243e-01\n",
            "  -1.48633138e+00]\n",
            " [-6.35084539e-01 -5.51531318e-01 -3.19715194e-01  5.41589110e-01\n",
            "   2.34515658e-01]\n",
            " [ 6.21964811e-01  1.58078792e-02  8.41014802e-03  6.50797175e-01\n",
            "   1.51147394e+00]\n",
            " [ 9.33810350e-01 -2.03631750e+00 -1.93287424e-03 -4.63495028e-01\n",
            "  -1.12691038e+00]\n",
            " [ 1.41344981e+00 -9.39562741e-01  5.65385780e-01 -1.61996524e+00\n",
            "  -2.13974734e-01]] \n",
            " [[ 1.59840705 -3.92408061  2.13178934]\n",
            " [ 0.19193968  0.88693281 -0.80476897]\n",
            " [ 1.78259919  0.04194087 -0.97229195]\n",
            " [-3.10296861  0.51749492  1.75881154]\n",
            " [-1.22439863  0.25839758 -2.87218826]]\n"
          ]
        }
      ]
    },
    {
      "cell_type": "code",
      "source": [
        "predict(x[1], w1, w2)"
      ],
      "metadata": {
        "colab": {
          "base_uri": "https://localhost:8080/",
          "height": 282
        },
        "id": "O6qX3whdgT4q",
        "outputId": "cf6d661e-99cb-408c-84db-b0569f31a12e"
      },
      "execution_count": null,
      "outputs": [
        {
          "output_type": "stream",
          "name": "stdout",
          "text": [
            "Image is of letter B.\n"
          ]
        },
        {
          "output_type": "display_data",
          "data": {
            "text/plain": [
              "<Figure size 432x288 with 1 Axes>"
            ],
            "image/png": "[encoded data removed]"
          },
          "metadata": {
            "needs_background": "light"
          }
        }
      ]
    }
  ]
}